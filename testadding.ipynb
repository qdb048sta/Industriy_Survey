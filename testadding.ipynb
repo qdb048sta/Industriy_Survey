{
 "cells": [
  {
   "cell_type": "code",
   "execution_count": 49,
   "metadata": {},
   "outputs": [],
   "source": [
    "import pandas as pd\n",
    "df=pd.read_stata(\"D:\\\\User_Data\\\\Desktop\\\\kan-2\\\\industrial_census\\\\fu_jobs_append.dta\")"
   ]
  },
  {
   "cell_type": "code",
   "execution_count": 51,
   "metadata": {},
   "outputs": [],
   "source": [
    "columns=df.columns\n",
    "for i in range(len(df)):\n",
    "    total_cal=0\n",
    "    for c in columns:\n",
    "        if \"total_employee\" not in c and c[-1]==\"m\" :\n",
    "            total_cal=total_cal+df[c][i]\n",
    "    if total_cal/df[\"total_employee_m\"][i] >=1:\n",
    "        print(df[\"year\"][i],df[\"county\"][i])"
   ]
  },
  {
   "cell_type": "code",
   "execution_count": 20,
   "metadata": {},
   "outputs": [
    {
     "name": "stdout",
     "output_type": "stream",
     "text": [
      "county\n",
      "agriculturem\n",
      "agriculturef\n",
      "fishingm\n",
      "fishingf\n",
      "forestrym\n",
      "forestryf\n",
      "constructionm\n",
      "constructionf\n",
      "warehousingm\n",
      "warehousingf\n",
      "year\n",
      "miningm\n",
      "miningf\n",
      "total_employee_m\n",
      "total_employee_f\n",
      "aquaculturem\n",
      "aquaculturef\n",
      "transportationm\n",
      "transportationf\n"
     ]
    }
   ],
   "source": [
    "for i in range(len(df.columns)):\n",
    "    print(df.columns[i])"
   ]
  },
  {
   "cell_type": "code",
   "execution_count": 53,
   "metadata": {},
   "outputs": [
    {
     "name": "stdout",
     "output_type": "stream",
     "text": [
      "cropproduction_f\n",
      "logging_f\n",
      "fishinghuntingandtrapping_f\n",
      "construction_f\n",
      "foodmanufacturing_f\n",
      "chemicalmanufacturing_f\n",
      "plasticandrubber_f\n",
      "nonmetallicmineral_f\n",
      "primarymetal_f\n",
      "fabricatedmetal_f\n",
      "machinerymanufacturing_f\n",
      "transportationequipment_f\n",
      "woodproduction_f\n",
      "airtransportation_f\n",
      "railtransportation_f\n",
      "watertransportation_f\n",
      "trucktransportation_f\n",
      "groundpassenger_f\n",
      "transportationservice_f\n",
      "warehousingandstorage_f\n",
      "utilities_f\n",
      "coalmining_f\n",
      "entertainment_f\n",
      "financeandinsurance_f\n",
      "aquaculture_f\n",
      "total_business_f\n",
      "total_service_f\n"
     ]
    }
   ],
   "source": [
    "for c in columns:\n",
    "    if \"total_employee\" not in c and c[-1]==\"f\" :\n",
    "        print(c)"
   ]
  },
  {
   "cell_type": "code",
   "execution_count": 37,
   "metadata": {},
   "outputs": [
    {
     "data": {
      "text/plain": [
       "1"
      ]
     },
     "execution_count": 37,
     "metadata": {},
     "output_type": "execute_result"
    }
   ],
   "source": [
    "3%2"
   ]
  },
  {
   "cell_type": "code",
   "execution_count": null,
   "metadata": {},
   "outputs": [],
   "source": []
  }
 ],
 "metadata": {
  "kernelspec": {
   "display_name": "Python 3",
   "language": "python",
   "name": "python3"
  },
  "language_info": {
   "codemirror_mode": {
    "name": "ipython",
    "version": 3
   },
   "file_extension": ".py",
   "mimetype": "text/x-python",
   "name": "python",
   "nbconvert_exporter": "python",
   "pygments_lexer": "ipython3",
   "version": "3.7.9"
  }
 },
 "nbformat": 4,
 "nbformat_minor": 4
}
