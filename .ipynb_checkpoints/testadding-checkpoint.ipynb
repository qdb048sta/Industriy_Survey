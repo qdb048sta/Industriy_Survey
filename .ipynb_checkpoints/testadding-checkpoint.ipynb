{
 "cells": [
  {
   "cell_type": "code",
   "execution_count": 97,
   "metadata": {},
   "outputs": [],
   "source": [
    "import pandas as pd\n",
    "\n",
    "df_ratio=pd.DataFrame()"
   ]
  },
  {
   "cell_type": "code",
   "execution_count": 104,
   "metadata": {},
   "outputs": [
    {
     "name": "stdout",
     "output_type": "stream",
     "text": [
      "              risky_m   risky_f    full_m    full_f\n",
      "(43.0, 台北縣)  0.419552  0.113680  0.419552  0.113680\n",
      "(43.0, 宜蘭縣)  0.756024  0.418430  0.756024  0.418430\n",
      "(43.0, 桃園縣)  0.763240  0.368525  0.763240  0.368525\n",
      "(43.0, 新竹縣)  0.728355  0.370226  0.728355  0.370226\n",
      "(43.0, 苗栗縣)  0.816815  0.560338  0.816815  0.560338\n",
      "...               ...       ...       ...       ...\n",
      "(65.0, 澎湖縣)  0.673633  0.834446  0.673633  0.834446\n",
      "(65.0, 基隆市)  0.555944  0.289596  0.555944  0.289596\n",
      "(65.0, 台中市)  0.282467  0.112460  0.282467  0.112460\n",
      "(65.0, 台南市)  0.312196  0.205871  0.312196  0.205871\n",
      "(65.0, 高雄市)  0.315176  0.084043  0.315176  0.084043\n",
      "\n",
      "[63 rows x 4 columns]\n",
      "//////\n",
      "              risky_m   risky_f    full_m    full_f\n",
      "(43.0, 台北縣)  0.419552  0.113680  0.210632  0.134184\n",
      "(43.0, 宜蘭縣)  0.756024  0.418430  0.568937  0.477674\n",
      "(43.0, 桃園縣)  0.763240  0.368525  0.513696  0.311665\n",
      "(43.0, 新竹縣)  0.728355  0.370226  0.611573  0.417286\n",
      "(43.0, 苗栗縣)  0.816815  0.560338  0.545816  0.438870\n",
      "...               ...       ...       ...       ...\n",
      "(65.0, 澎湖縣)  0.673633  0.834446  0.857143  0.938564\n",
      "(65.0, 基隆市)  0.555944  0.289596  0.779206  0.559361\n",
      "(65.0, 台中市)  0.282467  0.112460  0.771969  0.688285\n",
      "(65.0, 台南市)  0.312196  0.205871  0.707406  0.458682\n",
      "(65.0, 高雄市)  0.315176  0.084043  0.736946  0.398441\n",
      "\n",
      "[63 rows x 4 columns]\n",
      "//////\n"
     ]
    }
   ],
   "source": [
    "for r in [\"risky\",\"full\"]:\n",
    "    df=pd.read_stata(\"D:\\\\User_Data\\\\Desktop\\\\kan-2\\\\industrial_census\\\\\"+r+\"_jobs_append.dta\")\n",
    "    columns=df.columns\n",
    "    for g in [\"m\",\"f\"]:\n",
    "        total_ratio=[]\n",
    "        for i in range(len(df)):\n",
    "            total_cal=0\n",
    "\n",
    "            for c in columns:\n",
    "                if \"total_employee\" not in c and c[-1]==g :\n",
    "                    total_cal=total_cal+df[c][i]\n",
    "            total_ratio.append(total_cal/df[\"total_employee_\"+g][i])\n",
    "        df_ratio[r+\"_\"+g]=total_ratio\n",
    "        index=[]\n",
    "        for i in range(len(df)):\n",
    "            index.append((df[\"year\"][i],df[\"county\"][i]))\n",
    "        df_ratio.index=index\n",
    "        df_ratio.to_csv(r+\"_\"+\".csv\",encoding=\"big5\")  \n",
    "        print(df_ratio)\n",
    "        print(\"//////\")"
   ]
  },
  {
   "cell_type": "code",
   "execution_count": 84,
   "metadata": {},
   "outputs": [],
   "source": [
    "df_ratio[\"full_m_ratio\"]=total_ratio"
   ]
  },
  {
   "cell_type": "code",
   "execution_count": 63,
   "metadata": {},
   "outputs": [
    {
     "name": "stdout",
     "output_type": "stream",
     "text": [
      "cropproduction_f\n",
      "logging_f\n",
      "fishinghuntingandtrapping_f\n",
      "construction_f\n",
      "foodmanufacturing_f\n",
      "chemicalmanufacturing_f\n",
      "plasticandrubber_f\n",
      "nonmetallicmineral_f\n",
      "primarymetal_f\n",
      "fabricatedmetal_f\n",
      "machinerymanufacturing_f\n",
      "transportationequipment_f\n",
      "woodproduction_f\n",
      "airtransportation_f\n",
      "railtransportation_f\n",
      "watertransportation_f\n",
      "trucktransportation_f\n",
      "groundpassenger_f\n",
      "transportationservice_f\n",
      "warehousingandstorage_f\n",
      "utilities_f\n",
      "coalmining_f\n",
      "entertainment_f\n",
      "financeandinsurance_f\n",
      "aquaculture_f\n",
      "total_business_f\n",
      "total_service_f\n"
     ]
    }
   ],
   "source": [
    "for c in columns:\n",
    "    if \"total_employee\" not in c and c[-1]==\"f\" :\n",
    "        print(c)"
   ]
  },
  {
   "cell_type": "code",
   "execution_count": 87,
   "metadata": {},
   "outputs": [],
   "source": []
  },
  {
   "cell_type": "code",
   "execution_count": 88,
   "metadata": {},
   "outputs": [
    {
     "ename": "ValueError",
     "evalue": "Length mismatch: Expected axis has 1 elements, new values have 63 elements",
     "output_type": "error",
     "traceback": [
      "\u001b[1;31m---------------------------------------------------------------------------\u001b[0m",
      "\u001b[1;31mValueError\u001b[0m                                Traceback (most recent call last)",
      "\u001b[1;32m<ipython-input-88-aab3e2fe0938>\u001b[0m in \u001b[0;36m<module>\u001b[1;34m\u001b[0m\n\u001b[1;32m----> 1\u001b[1;33m \u001b[0mdf_ratio\u001b[0m\u001b[1;33m.\u001b[0m\u001b[0mindex\u001b[0m\u001b[1;33m=\u001b[0m\u001b[0mindex\u001b[0m\u001b[1;33m\u001b[0m\u001b[1;33m\u001b[0m\u001b[0m\n\u001b[0m",
      "\u001b[1;32me:\\python\\lib\\site-packages\\pandas\\core\\generic.py\u001b[0m in \u001b[0;36m__setattr__\u001b[1;34m(self, name, value)\u001b[0m\n\u001b[0;32m   5473\u001b[0m         \u001b[1;32mtry\u001b[0m\u001b[1;33m:\u001b[0m\u001b[1;33m\u001b[0m\u001b[1;33m\u001b[0m\u001b[0m\n\u001b[0;32m   5474\u001b[0m             \u001b[0mobject\u001b[0m\u001b[1;33m.\u001b[0m\u001b[0m__getattribute__\u001b[0m\u001b[1;33m(\u001b[0m\u001b[0mself\u001b[0m\u001b[1;33m,\u001b[0m \u001b[0mname\u001b[0m\u001b[1;33m)\u001b[0m\u001b[1;33m\u001b[0m\u001b[1;33m\u001b[0m\u001b[0m\n\u001b[1;32m-> 5475\u001b[1;33m             \u001b[1;32mreturn\u001b[0m \u001b[0mobject\u001b[0m\u001b[1;33m.\u001b[0m\u001b[0m__setattr__\u001b[0m\u001b[1;33m(\u001b[0m\u001b[0mself\u001b[0m\u001b[1;33m,\u001b[0m \u001b[0mname\u001b[0m\u001b[1;33m,\u001b[0m \u001b[0mvalue\u001b[0m\u001b[1;33m)\u001b[0m\u001b[1;33m\u001b[0m\u001b[1;33m\u001b[0m\u001b[0m\n\u001b[0m\u001b[0;32m   5476\u001b[0m         \u001b[1;32mexcept\u001b[0m \u001b[0mAttributeError\u001b[0m\u001b[1;33m:\u001b[0m\u001b[1;33m\u001b[0m\u001b[1;33m\u001b[0m\u001b[0m\n\u001b[0;32m   5477\u001b[0m             \u001b[1;32mpass\u001b[0m\u001b[1;33m\u001b[0m\u001b[1;33m\u001b[0m\u001b[0m\n",
      "\u001b[1;32mpandas\\_libs\\properties.pyx\u001b[0m in \u001b[0;36mpandas._libs.properties.AxisProperty.__set__\u001b[1;34m()\u001b[0m\n",
      "\u001b[1;32me:\\python\\lib\\site-packages\\pandas\\core\\generic.py\u001b[0m in \u001b[0;36m_set_axis\u001b[1;34m(self, axis, labels)\u001b[0m\n\u001b[0;32m    667\u001b[0m     \u001b[1;32mdef\u001b[0m \u001b[0m_set_axis\u001b[0m\u001b[1;33m(\u001b[0m\u001b[0mself\u001b[0m\u001b[1;33m,\u001b[0m \u001b[0maxis\u001b[0m\u001b[1;33m:\u001b[0m \u001b[0mint\u001b[0m\u001b[1;33m,\u001b[0m \u001b[0mlabels\u001b[0m\u001b[1;33m:\u001b[0m \u001b[0mIndex\u001b[0m\u001b[1;33m)\u001b[0m \u001b[1;33m->\u001b[0m \u001b[1;32mNone\u001b[0m\u001b[1;33m:\u001b[0m\u001b[1;33m\u001b[0m\u001b[1;33m\u001b[0m\u001b[0m\n\u001b[0;32m    668\u001b[0m         \u001b[0mlabels\u001b[0m \u001b[1;33m=\u001b[0m \u001b[0mensure_index\u001b[0m\u001b[1;33m(\u001b[0m\u001b[0mlabels\u001b[0m\u001b[1;33m)\u001b[0m\u001b[1;33m\u001b[0m\u001b[1;33m\u001b[0m\u001b[0m\n\u001b[1;32m--> 669\u001b[1;33m         \u001b[0mself\u001b[0m\u001b[1;33m.\u001b[0m\u001b[0m_mgr\u001b[0m\u001b[1;33m.\u001b[0m\u001b[0mset_axis\u001b[0m\u001b[1;33m(\u001b[0m\u001b[0maxis\u001b[0m\u001b[1;33m,\u001b[0m \u001b[0mlabels\u001b[0m\u001b[1;33m)\u001b[0m\u001b[1;33m\u001b[0m\u001b[1;33m\u001b[0m\u001b[0m\n\u001b[0m\u001b[0;32m    670\u001b[0m         \u001b[0mself\u001b[0m\u001b[1;33m.\u001b[0m\u001b[0m_clear_item_cache\u001b[0m\u001b[1;33m(\u001b[0m\u001b[1;33m)\u001b[0m\u001b[1;33m\u001b[0m\u001b[1;33m\u001b[0m\u001b[0m\n\u001b[0;32m    671\u001b[0m \u001b[1;33m\u001b[0m\u001b[0m\n",
      "\u001b[1;32me:\\python\\lib\\site-packages\\pandas\\core\\internals\\managers.py\u001b[0m in \u001b[0;36mset_axis\u001b[1;34m(self, axis, new_labels)\u001b[0m\n\u001b[0;32m    219\u001b[0m         \u001b[1;32mif\u001b[0m \u001b[0mnew_len\u001b[0m \u001b[1;33m!=\u001b[0m \u001b[0mold_len\u001b[0m\u001b[1;33m:\u001b[0m\u001b[1;33m\u001b[0m\u001b[1;33m\u001b[0m\u001b[0m\n\u001b[0;32m    220\u001b[0m             raise ValueError(\n\u001b[1;32m--> 221\u001b[1;33m                 \u001b[1;34mf\"Length mismatch: Expected axis has {old_len} elements, new \"\u001b[0m\u001b[1;33m\u001b[0m\u001b[1;33m\u001b[0m\u001b[0m\n\u001b[0m\u001b[0;32m    222\u001b[0m                 \u001b[1;34mf\"values have {new_len} elements\"\u001b[0m\u001b[1;33m\u001b[0m\u001b[1;33m\u001b[0m\u001b[0m\n\u001b[0;32m    223\u001b[0m             )\n",
      "\u001b[1;31mValueError\u001b[0m: Length mismatch: Expected axis has 1 elements, new values have 63 elements"
     ]
    }
   ],
   "source": [
    "df_ratio.index=index"
   ]
  },
  {
   "cell_type": "code",
   "execution_count": null,
   "metadata": {},
   "outputs": [],
   "source": []
  },
  {
   "cell_type": "code",
   "execution_count": null,
   "metadata": {},
   "outputs": [],
   "source": []
  }
 ],
 "metadata": {
  "kernelspec": {
   "display_name": "Python 3",
   "language": "python",
   "name": "python3"
  },
  "language_info": {
   "codemirror_mode": {
    "name": "ipython",
    "version": 3
   },
   "file_extension": ".py",
   "mimetype": "text/x-python",
   "name": "python",
   "nbconvert_exporter": "python",
   "pygments_lexer": "ipython3",
   "version": "3.7.9"
  }
 },
 "nbformat": 4,
 "nbformat_minor": 4
}
