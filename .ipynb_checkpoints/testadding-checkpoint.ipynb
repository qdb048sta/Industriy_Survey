{
 "cells": [
  {
   "cell_type": "code",
   "execution_count": 24,
   "metadata": {},
   "outputs": [],
   "source": [
    "import pandas as pd\n",
    "df=pd.read_stata(\"D:\\\\User_Data\\\\Desktop\\\\kan-2\\\\industrial_census\\\\risky_jobs_append.dta\")"
   ]
  },
  {
   "cell_type": "code",
   "execution_count": 41,
   "metadata": {},
   "outputs": [
    {
     "name": "stdout",
     "output_type": "stream",
     "text": [
      "43.0 台北縣\n",
      "43.0 宜蘭縣\n",
      "43.0 桃園縣\n",
      "43.0 新竹縣\n",
      "43.0 苗栗縣\n",
      "43.0 台中縣\n",
      "43.0 彰化縣\n",
      "43.0 南投縣\n",
      "43.0 雲林縣\n",
      "43.0 嘉義縣\n",
      "43.0 台南縣\n",
      "43.0 高雄縣\n",
      "43.0 屏東縣\n",
      "43.0 台東縣\n",
      "43.0 花蓮縣\n",
      "43.0 台中市\n",
      "43.0 高雄市\n",
      "55.0 宜蘭縣\n",
      "55.0 桃園縣\n",
      "55.0 新竹縣\n",
      "55.0 苗栗縣\n",
      "55.0 台中縣\n",
      "55.0 彰化縣\n",
      "55.0 南投縣\n",
      "55.0 雲林縣\n",
      "55.0 嘉義縣\n",
      "55.0 高雄縣\n",
      "55.0 屏東縣\n",
      "55.0 台東縣\n",
      "55.0 花蓮縣\n",
      "55.0 基隆市\n",
      "65.0 宜蘭縣\n",
      "65.0 南投縣\n",
      "65.0 雲林縣\n",
      "65.0 嘉義縣\n",
      "65.0 屏東縣\n",
      "65.0 台東縣\n",
      "65.0 花蓮縣\n"
     ]
    }
   ],
   "source": [
    "columns=df.columns\n",
    "for i in range(len(df)):\n",
    "    total_cal=0\n",
    "    for c in columns:\n",
    "        if \"total_employee\" not in columns[c] and c[-1]==\"m\" :\n",
    "            total_cal=total_cal+df[columns[c]][i]\n",
    "    if total_cal/df[\"total_employee_f\"][i] >=1:\n",
    "        print(df[\"year\"][i],df[\"county\"][i])"
   ]
  },
  {
   "cell_type": "code",
   "execution_count": 20,
   "metadata": {},
   "outputs": [
    {
     "name": "stdout",
     "output_type": "stream",
     "text": [
      "county\n",
      "agriculturem\n",
      "agriculturef\n",
      "fishingm\n",
      "fishingf\n",
      "forestrym\n",
      "forestryf\n",
      "constructionm\n",
      "constructionf\n",
      "warehousingm\n",
      "warehousingf\n",
      "year\n",
      "miningm\n",
      "miningf\n",
      "total_employee_m\n",
      "total_employee_f\n",
      "aquaculturem\n",
      "aquaculturef\n",
      "transportationm\n",
      "transportationf\n"
     ]
    }
   ],
   "source": [
    "for i in range(len(df.columns)):\n",
    "    print(df.columns[i])"
   ]
  },
  {
   "cell_type": "code",
   "execution_count": null,
   "metadata": {},
   "outputs": [],
   "source": []
  },
  {
   "cell_type": "code",
   "execution_count": 37,
   "metadata": {},
   "outputs": [
    {
     "data": {
      "text/plain": [
       "1"
      ]
     },
     "execution_count": 37,
     "metadata": {},
     "output_type": "execute_result"
    }
   ],
   "source": [
    "3%2"
   ]
  },
  {
   "cell_type": "code",
   "execution_count": null,
   "metadata": {},
   "outputs": [],
   "source": []
  }
 ],
 "metadata": {
  "kernelspec": {
   "display_name": "Python 3",
   "language": "python",
   "name": "python3"
  },
  "language_info": {
   "codemirror_mode": {
    "name": "ipython",
    "version": 3
   },
   "file_extension": ".py",
   "mimetype": "text/x-python",
   "name": "python",
   "nbconvert_exporter": "python",
   "pygments_lexer": "ipython3",
   "version": "3.7.9"
  }
 },
 "nbformat": 4,
 "nbformat_minor": 4
}
